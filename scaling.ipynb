{
 "cells": [
  {
   "cell_type": "code",
   "execution_count": 1,
   "id": "aa8f0585",
   "metadata": {},
   "outputs": [],
   "source": [
    "\n",
    "import pandas as pd\n",
    "import sklearn.preprocessing\n",
    "import matplotlib.pyplot as plt\n",
    "from sklearn.model_selection import train_test_split\n",
    "from wrangle import wrangle_zillow"
   ]
  },
  {
   "cell_type": "code",
   "execution_count": 2,
   "id": "aee70f01",
   "metadata": {},
   "outputs": [
    {
     "data": {
      "text/html": [
       "<div>\n",
       "<style scoped>\n",
       "    .dataframe tbody tr th:only-of-type {\n",
       "        vertical-align: middle;\n",
       "    }\n",
       "\n",
       "    .dataframe tbody tr th {\n",
       "        vertical-align: top;\n",
       "    }\n",
       "\n",
       "    .dataframe thead th {\n",
       "        text-align: right;\n",
       "    }\n",
       "</style>\n",
       "<table border=\"1\" class=\"dataframe\">\n",
       "  <thead>\n",
       "    <tr style=\"text-align: right;\">\n",
       "      <th></th>\n",
       "      <th>bedroom_cnt</th>\n",
       "      <th>bath_cnt</th>\n",
       "      <th>SqFt</th>\n",
       "      <th>tax_value</th>\n",
       "      <th>year_built</th>\n",
       "      <th>tax_amount</th>\n",
       "      <th>fips</th>\n",
       "    </tr>\n",
       "  </thead>\n",
       "  <tbody>\n",
       "    <tr>\n",
       "      <th>4</th>\n",
       "      <td>4</td>\n",
       "      <td>2.0</td>\n",
       "      <td>3633</td>\n",
       "      <td>296425</td>\n",
       "      <td>2005</td>\n",
       "      <td>6941.39</td>\n",
       "      <td>6037</td>\n",
       "    </tr>\n",
       "    <tr>\n",
       "      <th>6</th>\n",
       "      <td>3</td>\n",
       "      <td>4.0</td>\n",
       "      <td>1620</td>\n",
       "      <td>847770</td>\n",
       "      <td>2011</td>\n",
       "      <td>10244.94</td>\n",
       "      <td>6037</td>\n",
       "    </tr>\n",
       "    <tr>\n",
       "      <th>7</th>\n",
       "      <td>3</td>\n",
       "      <td>2.0</td>\n",
       "      <td>2077</td>\n",
       "      <td>646760</td>\n",
       "      <td>1926</td>\n",
       "      <td>7924.68</td>\n",
       "      <td>6037</td>\n",
       "    </tr>\n",
       "    <tr>\n",
       "      <th>11</th>\n",
       "      <td>0</td>\n",
       "      <td>0.0</td>\n",
       "      <td>1200</td>\n",
       "      <td>5328</td>\n",
       "      <td>1972</td>\n",
       "      <td>91.60</td>\n",
       "      <td>6037</td>\n",
       "    </tr>\n",
       "    <tr>\n",
       "      <th>14</th>\n",
       "      <td>0</td>\n",
       "      <td>0.0</td>\n",
       "      <td>171</td>\n",
       "      <td>6920</td>\n",
       "      <td>1973</td>\n",
       "      <td>255.17</td>\n",
       "      <td>6037</td>\n",
       "    </tr>\n",
       "  </tbody>\n",
       "</table>\n",
       "</div>"
      ],
      "text/plain": [
       "    bedroom_cnt  bath_cnt  SqFt  tax_value  year_built  tax_amount  fips\n",
       "4             4       2.0  3633     296425        2005     6941.39  6037\n",
       "6             3       4.0  1620     847770        2011    10244.94  6037\n",
       "7             3       2.0  2077     646760        1926     7924.68  6037\n",
       "11            0       0.0  1200       5328        1972       91.60  6037\n",
       "14            0       0.0   171       6920        1973      255.17  6037"
      ]
     },
     "execution_count": 2,
     "metadata": {},
     "output_type": "execute_result"
    }
   ],
   "source": [
    "df = wrangle_zillow()\n",
    "df.head()"
   ]
  },
  {
   "cell_type": "code",
   "execution_count": 3,
   "id": "49084975",
   "metadata": {},
   "outputs": [],
   "source": [
    "#Split the data before performing scaling on the train portion\n",
    "seed = 42\n",
    "\n",
    "train, valid_test = train_test_split(df, test_size=0.3,\n",
    "                                     random_state=seed)\n",
    "\n",
    "valid, test = train_test_split(valid_test, test_size=0.5,\n",
    "                               random_state=seed)"
   ]
  },
  {
   "cell_type": "code",
   "execution_count": 6,
   "id": "e9d59e69",
   "metadata": {},
   "outputs": [],
   "source": [
    "\n",
    "X_train = train.drop(columns=['tax_value'])"
   ]
  },
  {
   "cell_type": "code",
   "execution_count": 8,
   "id": "bd42fc08",
   "metadata": {},
   "outputs": [
    {
     "data": {
      "text/plain": [
       "2.00    658154\n",
       "3.00    291164\n",
       "1.00    288609\n",
       "2.50     99589\n",
       "4.00     52049\n",
       "1.50     21777\n",
       "3.50     18871\n",
       "5.00     14646\n",
       "4.50     11747\n",
       "6.00      3793\n",
       "5.50      2900\n",
       "0.00      2898\n",
       "0.50         9\n",
       "1.75         2\n",
       "Name: bath_cnt, dtype: int64"
      ]
     },
     "execution_count": 8,
     "metadata": {},
     "output_type": "execute_result"
    }
   ],
   "source": [
    "#Looking at the value counts for bathrooms\n",
    "X_train['bath_cnt'].value_counts()"
   ]
  },
  {
   "cell_type": "code",
   "execution_count": 10,
   "id": "83abb9b9",
   "metadata": {},
   "outputs": [],
   "source": [
    "#Create an arbitrary subset that's easier to work with\n",
    "train_subset = X_train[X_train['bath_cnt'] <= 8]"
   ]
  },
  {
   "cell_type": "code",
   "execution_count": 11,
   "id": "8ee38a6e",
   "metadata": {},
   "outputs": [],
   "source": [
    "mms = sklearn.preprocessing.MinMaxScaler()\n",
    "\n",
    "mms.fit(train_subset)\n",
    "\n",
    "train_mms = mms.transform(train_subset)"
   ]
  },
  {
   "cell_type": "code",
   "execution_count": 12,
   "id": "6f3e64a8",
   "metadata": {},
   "outputs": [
    {
     "data": {
      "text/html": [
       "<div>\n",
       "<style scoped>\n",
       "    .dataframe tbody tr th:only-of-type {\n",
       "        vertical-align: middle;\n",
       "    }\n",
       "\n",
       "    .dataframe tbody tr th {\n",
       "        vertical-align: top;\n",
       "    }\n",
       "\n",
       "    .dataframe thead th {\n",
       "        text-align: right;\n",
       "    }\n",
       "</style>\n",
       "<table border=\"1\" class=\"dataframe\">\n",
       "  <thead>\n",
       "    <tr style=\"text-align: right;\">\n",
       "      <th></th>\n",
       "      <th>bedroom_cnt</th>\n",
       "      <th>bath_cnt</th>\n",
       "      <th>SqFt</th>\n",
       "      <th>year_built</th>\n",
       "      <th>tax_amount</th>\n",
       "      <th>fips</th>\n",
       "    </tr>\n",
       "  </thead>\n",
       "  <tbody>\n",
       "    <tr>\n",
       "      <th>0</th>\n",
       "      <td>0.500000</td>\n",
       "      <td>0.333333</td>\n",
       "      <td>0.001802</td>\n",
       "      <td>0.697674</td>\n",
       "      <td>0.065171</td>\n",
       "      <td>0.000000</td>\n",
       "    </tr>\n",
       "    <tr>\n",
       "      <th>1</th>\n",
       "      <td>0.666667</td>\n",
       "      <td>0.333333</td>\n",
       "      <td>0.001428</td>\n",
       "      <td>0.786047</td>\n",
       "      <td>0.022659</td>\n",
       "      <td>1.000000</td>\n",
       "    </tr>\n",
       "    <tr>\n",
       "      <th>2</th>\n",
       "      <td>0.333333</td>\n",
       "      <td>0.333333</td>\n",
       "      <td>0.002241</td>\n",
       "      <td>0.823256</td>\n",
       "      <td>0.080201</td>\n",
       "      <td>0.297297</td>\n",
       "    </tr>\n",
       "    <tr>\n",
       "      <th>3</th>\n",
       "      <td>0.500000</td>\n",
       "      <td>0.250000</td>\n",
       "      <td>0.001003</td>\n",
       "      <td>0.748837</td>\n",
       "      <td>0.023844</td>\n",
       "      <td>1.000000</td>\n",
       "    </tr>\n",
       "    <tr>\n",
       "      <th>4</th>\n",
       "      <td>0.666667</td>\n",
       "      <td>0.333333</td>\n",
       "      <td>0.001955</td>\n",
       "      <td>0.776744</td>\n",
       "      <td>0.007997</td>\n",
       "      <td>1.000000</td>\n",
       "    </tr>\n",
       "  </tbody>\n",
       "</table>\n",
       "</div>"
      ],
      "text/plain": [
       "   bedroom_cnt  bath_cnt      SqFt  year_built  tax_amount      fips\n",
       "0     0.500000  0.333333  0.001802    0.697674    0.065171  0.000000\n",
       "1     0.666667  0.333333  0.001428    0.786047    0.022659  1.000000\n",
       "2     0.333333  0.333333  0.002241    0.823256    0.080201  0.297297\n",
       "3     0.500000  0.250000  0.001003    0.748837    0.023844  1.000000\n",
       "4     0.666667  0.333333  0.001955    0.776744    0.007997  1.000000"
      ]
     },
     "execution_count": 12,
     "metadata": {},
     "output_type": "execute_result"
    }
   ],
   "source": [
    "#Is there a mistake here?\n",
    "pd.DataFrame(train_mms, columns=list(train_subset.columns)).head()"
   ]
  },
  {
   "cell_type": "code",
   "execution_count": 14,
   "id": "e5af3972",
   "metadata": {},
   "outputs": [
    {
     "data": {
      "text/plain": [
       "Text(0.5, 1.0, 'Scaled')"
      ]
     },
     "execution_count": 14,
     "metadata": {},
     "output_type": "execute_result"
    },
    {
     "data": {
      "image/png": "[encoded data removed]",
      "text/plain": [
       "<Figure size 936x432 with 2 Axes>"
      ]
     },
     "metadata": {
      "needs_background": "light"
     },
     "output_type": "display_data"
    }
   ],
   "source": [
    "#Visualize the difference between unscaled/scaled data\n",
    "plt.figure(figsize=(13, 6))\n",
    "plt.subplot(121)\n",
    "plt.hist(train_subset['bath_cnt'], bins=25, ec='black')\n",
    "plt.title('Original')\n",
    "plt.subplot(122)\n",
    "plt.hist(train_mms[:,1], bins=25, ec='black')\n",
    "plt.title('Scaled')"
   ]
  },
  {
   "cell_type": "code",
   "execution_count": 15,
   "id": "f0268d94",
   "metadata": {},
   "outputs": [],
   "source": [
    "#fit the robust scaler \n",
    "rs = sklearn.preprocessing.RobustScaler()\n",
    "\n",
    "rs.fit(train_subset)\n",
    "\n",
    "train_rs = rs.transform(train_subset)"
   ]
  },
  {
   "cell_type": "code",
   "execution_count": 17,
   "id": "5562c186",
   "metadata": {},
   "outputs": [
    {
     "data": {
      "text/plain": [
       "Text(0.5, 1.0, 'Scaled')"
      ]
     },
     "execution_count": 17,
     "metadata": {},
     "output_type": "execute_result"
    },
    {
     "data": {
      "image/png": "[encoded data removed]",
      "text/plain": [
       "<Figure size 936x432 with 2 Axes>"
      ]
     },
     "metadata": {
      "needs_background": "light"
     },
     "output_type": "display_data"
    }
   ],
   "source": [
    "#Visualize the data before and after scaling\n",
    "plt.figure(figsize=(13, 6))\n",
    "plt.subplot(121)\n",
    "plt.hist(train_subset['bath_cnt'], bins=25, ec='black')\n",
    "plt.title('Original')\n",
    "plt.subplot(122)\n",
    "plt.hist(train_rs[:,1], bins=25, ec='black')\n",
    "plt.title('Scaled')"
   ]
  },
  {
   "cell_type": "markdown",
   "id": "b5387bb2",
   "metadata": {},
   "source": [
    "2"
   ]
  },
  {
   "cell_type": "code",
   "execution_count": 18,
   "id": "560212bc",
   "metadata": {},
   "outputs": [
    {
     "data": {
      "text/plain": [
       "array([[3.00000e+00, 2.00000e+00, 1.71800e+03, 1.95100e+03, 6.54775e+03,\n",
       "        6.03700e+03],\n",
       "       [4.00000e+00, 2.00000e+00, 1.36100e+03, 1.97000e+03, 2.28074e+03,\n",
       "        6.11100e+03],\n",
       "       [2.00000e+00, 2.00000e+00, 2.13600e+03, 1.97800e+03, 8.05638e+03,\n",
       "        6.05900e+03],\n",
       "       ...,\n",
       "       [3.00000e+00, 1.00000e+00, 1.00000e+03, 1.95100e+03, 8.68320e+02,\n",
       "        6.03700e+03],\n",
       "       [3.00000e+00, 2.00000e+00, 1.69300e+03, 1.97600e+03, 3.51384e+03,\n",
       "        6.11100e+03],\n",
       "       [2.00000e+00, 1.00000e+00, 1.07500e+03, 1.96100e+03, 3.21492e+03,\n",
       "        6.03700e+03]])"
      ]
     },
     "execution_count": 18,
     "metadata": {},
     "output_type": "execute_result"
    }
   ],
   "source": [
    "# inverse_transform\n",
    "rs.inverse_transform(train_rs)\n"
   ]
  },
  {
   "cell_type": "code",
   "execution_count": 19,
   "id": "69233924",
   "metadata": {},
   "outputs": [
    {
     "data": {
      "text/html": [
       "<div>\n",
       "<style scoped>\n",
       "    .dataframe tbody tr th:only-of-type {\n",
       "        vertical-align: middle;\n",
       "    }\n",
       "\n",
       "    .dataframe tbody tr th {\n",
       "        vertical-align: top;\n",
       "    }\n",
       "\n",
       "    .dataframe thead th {\n",
       "        text-align: right;\n",
       "    }\n",
       "</style>\n",
       "<table border=\"1\" class=\"dataframe\">\n",
       "  <thead>\n",
       "    <tr style=\"text-align: right;\">\n",
       "      <th></th>\n",
       "      <th>0</th>\n",
       "      <th>1</th>\n",
       "      <th>2</th>\n",
       "      <th>3</th>\n",
       "      <th>4</th>\n",
       "      <th>5</th>\n",
       "    </tr>\n",
       "  </thead>\n",
       "  <tbody>\n",
       "    <tr>\n",
       "      <th>0</th>\n",
       "      <td>3.0</td>\n",
       "      <td>2.0</td>\n",
       "      <td>1718.0</td>\n",
       "      <td>1951.0</td>\n",
       "      <td>6547.75</td>\n",
       "      <td>6037.0</td>\n",
       "    </tr>\n",
       "    <tr>\n",
       "      <th>1</th>\n",
       "      <td>4.0</td>\n",
       "      <td>2.0</td>\n",
       "      <td>1361.0</td>\n",
       "      <td>1970.0</td>\n",
       "      <td>2280.74</td>\n",
       "      <td>6111.0</td>\n",
       "    </tr>\n",
       "    <tr>\n",
       "      <th>2</th>\n",
       "      <td>2.0</td>\n",
       "      <td>2.0</td>\n",
       "      <td>2136.0</td>\n",
       "      <td>1978.0</td>\n",
       "      <td>8056.38</td>\n",
       "      <td>6059.0</td>\n",
       "    </tr>\n",
       "    <tr>\n",
       "      <th>3</th>\n",
       "      <td>3.0</td>\n",
       "      <td>1.5</td>\n",
       "      <td>956.0</td>\n",
       "      <td>1962.0</td>\n",
       "      <td>2399.60</td>\n",
       "      <td>6111.0</td>\n",
       "    </tr>\n",
       "    <tr>\n",
       "      <th>4</th>\n",
       "      <td>4.0</td>\n",
       "      <td>2.0</td>\n",
       "      <td>1863.0</td>\n",
       "      <td>1968.0</td>\n",
       "      <td>809.02</td>\n",
       "      <td>6111.0</td>\n",
       "    </tr>\n",
       "    <tr>\n",
       "      <th>...</th>\n",
       "      <td>...</td>\n",
       "      <td>...</td>\n",
       "      <td>...</td>\n",
       "      <td>...</td>\n",
       "      <td>...</td>\n",
       "      <td>...</td>\n",
       "    </tr>\n",
       "    <tr>\n",
       "      <th>1466203</th>\n",
       "      <td>3.0</td>\n",
       "      <td>2.0</td>\n",
       "      <td>1768.0</td>\n",
       "      <td>1950.0</td>\n",
       "      <td>3376.60</td>\n",
       "      <td>6059.0</td>\n",
       "    </tr>\n",
       "    <tr>\n",
       "      <th>1466204</th>\n",
       "      <td>3.0</td>\n",
       "      <td>1.0</td>\n",
       "      <td>1498.0</td>\n",
       "      <td>1908.0</td>\n",
       "      <td>5023.30</td>\n",
       "      <td>6111.0</td>\n",
       "    </tr>\n",
       "    <tr>\n",
       "      <th>1466205</th>\n",
       "      <td>3.0</td>\n",
       "      <td>1.0</td>\n",
       "      <td>1000.0</td>\n",
       "      <td>1951.0</td>\n",
       "      <td>868.32</td>\n",
       "      <td>6037.0</td>\n",
       "    </tr>\n",
       "    <tr>\n",
       "      <th>1466206</th>\n",
       "      <td>3.0</td>\n",
       "      <td>2.0</td>\n",
       "      <td>1693.0</td>\n",
       "      <td>1976.0</td>\n",
       "      <td>3513.84</td>\n",
       "      <td>6111.0</td>\n",
       "    </tr>\n",
       "    <tr>\n",
       "      <th>1466207</th>\n",
       "      <td>2.0</td>\n",
       "      <td>1.0</td>\n",
       "      <td>1075.0</td>\n",
       "      <td>1961.0</td>\n",
       "      <td>3214.92</td>\n",
       "      <td>6037.0</td>\n",
       "    </tr>\n",
       "  </tbody>\n",
       "</table>\n",
       "<p>1466208 rows × 6 columns</p>\n",
       "</div>"
      ],
      "text/plain": [
       "           0    1       2       3        4       5\n",
       "0        3.0  2.0  1718.0  1951.0  6547.75  6037.0\n",
       "1        4.0  2.0  1361.0  1970.0  2280.74  6111.0\n",
       "2        2.0  2.0  2136.0  1978.0  8056.38  6059.0\n",
       "3        3.0  1.5   956.0  1962.0  2399.60  6111.0\n",
       "4        4.0  2.0  1863.0  1968.0   809.02  6111.0\n",
       "...      ...  ...     ...     ...      ...     ...\n",
       "1466203  3.0  2.0  1768.0  1950.0  3376.60  6059.0\n",
       "1466204  3.0  1.0  1498.0  1908.0  5023.30  6111.0\n",
       "1466205  3.0  1.0  1000.0  1951.0   868.32  6037.0\n",
       "1466206  3.0  2.0  1693.0  1976.0  3513.84  6111.0\n",
       "1466207  2.0  1.0  1075.0  1961.0  3214.92  6037.0\n",
       "\n",
       "[1466208 rows x 6 columns]"
      ]
     },
     "execution_count": 19,
     "metadata": {},
     "output_type": "execute_result"
    }
   ],
   "source": [
    "pd.DataFrame(rs.inverse_transform(train_rs))"
   ]
  },
  {
   "cell_type": "code",
   "execution_count": 20,
   "id": "996bfb81",
   "metadata": {},
   "outputs": [
    {
     "data": {
      "text/html": [
       "<div>\n",
       "<style scoped>\n",
       "    .dataframe tbody tr th:only-of-type {\n",
       "        vertical-align: middle;\n",
       "    }\n",
       "\n",
       "    .dataframe tbody tr th {\n",
       "        vertical-align: top;\n",
       "    }\n",
       "\n",
       "    .dataframe thead th {\n",
       "        text-align: right;\n",
       "    }\n",
       "</style>\n",
       "<table border=\"1\" class=\"dataframe\">\n",
       "  <thead>\n",
       "    <tr style=\"text-align: right;\">\n",
       "      <th></th>\n",
       "      <th>bedroom_cnt</th>\n",
       "      <th>bath_cnt</th>\n",
       "      <th>SqFt</th>\n",
       "      <th>year_built</th>\n",
       "      <th>tax_amount</th>\n",
       "      <th>fips</th>\n",
       "    </tr>\n",
       "  </thead>\n",
       "  <tbody>\n",
       "    <tr>\n",
       "      <th>781667</th>\n",
       "      <td>3</td>\n",
       "      <td>2.0</td>\n",
       "      <td>1718</td>\n",
       "      <td>1951</td>\n",
       "      <td>6547.75</td>\n",
       "      <td>6037</td>\n",
       "    </tr>\n",
       "    <tr>\n",
       "      <th>1766333</th>\n",
       "      <td>4</td>\n",
       "      <td>2.0</td>\n",
       "      <td>1361</td>\n",
       "      <td>1970</td>\n",
       "      <td>2280.74</td>\n",
       "      <td>6111</td>\n",
       "    </tr>\n",
       "    <tr>\n",
       "      <th>192985</th>\n",
       "      <td>2</td>\n",
       "      <td>2.0</td>\n",
       "      <td>2136</td>\n",
       "      <td>1978</td>\n",
       "      <td>8056.38</td>\n",
       "      <td>6059</td>\n",
       "    </tr>\n",
       "    <tr>\n",
       "      <th>1465240</th>\n",
       "      <td>3</td>\n",
       "      <td>1.5</td>\n",
       "      <td>956</td>\n",
       "      <td>1962</td>\n",
       "      <td>2399.60</td>\n",
       "      <td>6111</td>\n",
       "    </tr>\n",
       "    <tr>\n",
       "      <th>377201</th>\n",
       "      <td>4</td>\n",
       "      <td>2.0</td>\n",
       "      <td>1863</td>\n",
       "      <td>1968</td>\n",
       "      <td>809.02</td>\n",
       "      <td>6111</td>\n",
       "    </tr>\n",
       "  </tbody>\n",
       "</table>\n",
       "</div>"
      ],
      "text/plain": [
       "         bedroom_cnt  bath_cnt  SqFt  year_built  tax_amount  fips\n",
       "781667             3       2.0  1718        1951     6547.75  6037\n",
       "1766333            4       2.0  1361        1970     2280.74  6111\n",
       "192985             2       2.0  2136        1978     8056.38  6059\n",
       "1465240            3       1.5   956        1962     2399.60  6111\n",
       "377201             4       2.0  1863        1968      809.02  6111"
      ]
     },
     "execution_count": 20,
     "metadata": {},
     "output_type": "execute_result"
    }
   ],
   "source": [
    "train_subset.head()"
   ]
  },
  {
   "cell_type": "markdown",
   "id": "1509f4c0",
   "metadata": {},
   "source": [
    "3"
   ]
  },
  {
   "cell_type": "code",
   "execution_count": 21,
   "id": "d27266a8",
   "metadata": {},
   "outputs": [],
   "source": [
    "# fit quantile transformer to a variable\n",
    "qt = sklearn.preprocessing.QuantileTransformer(output_distribution='normal')\n",
    "\n",
    "qt.fit(train_subset)\n",
    "\n",
    "train_qt = qt.transform(train_subset)"
   ]
  },
  {
   "cell_type": "code",
   "execution_count": 22,
   "id": "2ef16682",
   "metadata": {},
   "outputs": [
    {
     "data": {
      "text/plain": [
       "Text(0.5, 1.0, 'Scaled')"
      ]
     },
     "execution_count": 22,
     "metadata": {},
     "output_type": "execute_result"
    },
    {
     "data": {
      "image/png": "[encoded data removed]",
      "text/plain": [
       "<Figure size 936x432 with 2 Axes>"
      ]
     },
     "metadata": {
      "needs_background": "light"
     },
     "output_type": "display_data"
    }
   ],
   "source": [
    "#Visualize the results of normalized quantile transformation\n",
    "plt.figure(figsize=(13, 6))\n",
    "plt.subplot(121)\n",
    "plt.hist(train_subset['bath_cnt'], bins=25, ec='black')\n",
    "plt.title('Original')\n",
    "plt.subplot(122)\n",
    "plt.hist(train_qt[:,1], bins=25, ec='black')\n",
    "plt.title('Scaled')"
   ]
  },
  {
   "cell_type": "markdown",
   "id": "cc01fb95",
   "metadata": {},
   "source": [
    "4"
   ]
  },
  {
   "cell_type": "code",
   "execution_count": 23,
   "id": "db14c2c2",
   "metadata": {},
   "outputs": [],
   "source": [
    "#quantile transformer without normalization\n",
    "qt2 = sklearn.preprocessing.QuantileTransformer()\n",
    "\n",
    "qt2.fit(train_subset)\n",
    "\n",
    "train_qt2 = qt2.transform(train_subset)"
   ]
  },
  {
   "cell_type": "code",
   "execution_count": 24,
   "id": "0115f0f8",
   "metadata": {},
   "outputs": [
    {
     "data": {
      "text/plain": [
       "Text(0.5, 1.0, 'Scaled')"
      ]
     },
     "execution_count": 24,
     "metadata": {},
     "output_type": "execute_result"
    },
    {
     "data": {
      "image/png": "[encoded data removed]",
      "text/plain": [
       "<Figure size 936x432 with 2 Axes>"
      ]
     },
     "metadata": {
      "needs_background": "light"
     },
     "output_type": "display_data"
    }
   ],
   "source": [
    "#Visualize the results\n",
    "plt.figure(figsize=(13, 6))\n",
    "plt.subplot(121)\n",
    "plt.hist(train_subset['bath_cnt'], bins=25, ec='black')\n",
    "plt.title('Original')\n",
    "plt.subplot(122)\n",
    "plt.hist(train_qt2[:,1], bins=25, ec='black')\n",
    "plt.title('Scaled')"
   ]
  },
  {
   "cell_type": "code",
   "execution_count": null,
   "id": "092d8cdf",
   "metadata": {},
   "outputs": [],
   "source": []
  }
 ],
 "metadata": {
  "kernelspec": {
   "display_name": "Python 3 (ipykernel)",
   "language": "python",
   "name": "python3"
  },
  "language_info": {
   "codemirror_mode": {
    "name": "ipython",
    "version": 3
   },
   "file_extension": ".py",
   "mimetype": "text/x-python",
   "name": "python",
   "nbconvert_exporter": "python",
   "pygments_lexer": "ipython3",
   "version": "3.9.12"
  }
 },
 "nbformat": 4,
 "nbformat_minor": 5
}
